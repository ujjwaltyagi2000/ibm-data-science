{
 "cells": [
  {
   "cell_type": "code",
   "execution_count": 1,
   "metadata": {},
   "outputs": [
    {
     "name": "stdout",
     "output_type": "stream",
     "text": [
      "   Identifier Access code Recovery code First name Last name   Department    Location\n",
      "0        9012      12se74        rb9012     Rachel    Booker        Sales  Manchester\n",
      "1        2070      04ap67        lg2070      Laura      Grey        Depot      London\n",
      "2        4081      30no86        cj4081      Craig   Johnson        Depot      London\n",
      "3        9346      14ju73        mj9346       Mary   Jenkins  Engineering  Manchester\n",
      "4        5079      09ja61        js5079      Jamie     Smith  Engineering  Manchester\n"
     ]
    }
   ],
   "source": [
    "import pandas as pd\n",
    "file_path = \"emp_data.csv\"\n",
    "\n",
    "# Read the CSV file into a DataFrame\n",
    "df = pd.read_csv(file_path, delimiter=';')\n",
    "\n",
    "# Set the display width to a larger value\n",
    "pd.set_option('display.width', 1000)\n",
    "\n",
    "# Display the DataFrame\n",
    "print(df)"
   ]
  },
  {
   "cell_type": "code",
   "execution_count": null,
   "metadata": {},
   "outputs": [],
   "source": []
  }
 ],
 "metadata": {
  "kernelspec": {
   "display_name": "data-science",
   "language": "python",
   "name": "python3"
  },
  "language_info": {
   "codemirror_mode": {
    "name": "ipython",
    "version": 3
   },
   "file_extension": ".py",
   "mimetype": "text/x-python",
   "name": "python",
   "nbconvert_exporter": "python",
   "pygments_lexer": "ipython3",
   "version": "3.12.0"
  }
 },
 "nbformat": 4,
 "nbformat_minor": 2
}
