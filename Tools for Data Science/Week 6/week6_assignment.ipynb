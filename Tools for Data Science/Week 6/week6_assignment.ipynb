{
 "cells": [
  {
   "cell_type": "markdown",
   "metadata": {},
   "source": [
    "# Tools for Data Science"
   ]
  },
  {
   "cell_type": "markdown",
   "metadata": {},
   "source": [
    "## Introduction\n",
    "\n",
    "This notebook is my submission for the Tools for Data Science course of IBM's Data Science professional certificate."
   ]
  },
  {
   "cell_type": "markdown",
   "metadata": {},
   "source": [
    "## Data Science Languages\n",
    "\n",
    "Some popular languages for Data Science are:\n",
    "1. Python\n",
    "2. R\n",
    "3. SQL\n",
    "4. Java\n",
    "5. Scala\n",
    "6. Julia"
   ]
  },
  {
   "cell_type": "markdown",
   "metadata": {},
   "source": [
    "## Data Science Libraries\n",
    "\n",
    "Some widely used libraries for Data Science are:\n",
    "1. Pandas\n",
    "2. Matplotlib\n",
    "3. Numpy\n",
    "4. scikit-learn\n",
    "5. Tensorflow\n",
    "6. Keras\n",
    "7. Pytorch"
   ]
  },
  {
   "cell_type": "markdown",
   "metadata": {},
   "source": [
    "## Data Science Tools\n",
    "\n",
    "| Tool/Library    | Description                                       \n",
    "|-----------------|---------------------------------------------------|\n",
    "| **Plotly**      | Interactive data visualization                    | \n",
    "| **Jupyter**     | Interactive notebooks for data exploration        | \n",
    "| **Tableau**     | Data visualization and reporting                  | \n",
    "| **Hadoop**    |  Provide storage solutions for large-scale data |\n",
    "| **Apache Airflow**    | Facilitates Workflow Automation |\n",
    "| **Amazon Web Services DynamoDB** | A NoSQL database that handles key-value and document store data storage |\n",
    "\n",
    "\n"
   ]
  },
  {
   "cell_type": "markdown",
   "metadata": {},
   "source": [
    "## Arithmetic Expression Examples\n",
    "\n",
    "In this notebook, we will explore some basic arithmetic operations and examples.\n"
   ]
  },
  {
   "cell_type": "code",
   "execution_count": 4,
   "metadata": {},
   "outputs": [
    {
     "name": "stdout",
     "output_type": "stream",
     "text": [
      "Multiplication result: 12\n",
      "Addition result: 12\n"
     ]
    }
   ],
   "source": [
    "# Multiplication\n",
    "result_multiply = 3 * 4\n",
    "print(\"Multiplication result:\", result_multiply)\n",
    "\n",
    "# Addition\n",
    "result_addition = 5 + 7\n",
    "print(\"Addition result:\", result_addition)\n"
   ]
  },
  {
   "cell_type": "code",
   "execution_count": 5,
   "metadata": {},
   "outputs": [
    {
     "name": "stdout",
     "output_type": "stream",
     "text": [
      "120 minutes is equal to 2.0 hours.\n"
     ]
    }
   ],
   "source": [
    "# Conversion from minutes to hours\n",
    "minutes = 120\n",
    "hours = minutes / 60\n",
    "print(f\"{minutes} minutes is equal to {hours} hours.\")\n"
   ]
  },
  {
   "cell_type": "markdown",
   "metadata": {},
   "source": [
    "## Objectives\n",
    "\n",
    "- Learn about data science languages and libraries.\n",
    "- Perform basic arithmetic operations.\n",
    "- Understand the concept of time conversion.\n"
   ]
  },
  {
   "cell_type": "markdown",
   "metadata": {},
   "source": [
    "## Author\n",
    "\n",
    "Ujjwal Tyagi"
   ]
  }
 ],
 "metadata": {
  "kernelspec": {
   "display_name": "base",
   "language": "python",
   "name": "python3"
  },
  "language_info": {
   "codemirror_mode": {
    "name": "ipython",
    "version": 3
   },
   "file_extension": ".py",
   "mimetype": "text/x-python",
   "name": "python",
   "nbconvert_exporter": "python",
   "pygments_lexer": "ipython3",
   "version": "3.10.9"
  },
  "orig_nbformat": 4
 },
 "nbformat": 4,
 "nbformat_minor": 2
}
