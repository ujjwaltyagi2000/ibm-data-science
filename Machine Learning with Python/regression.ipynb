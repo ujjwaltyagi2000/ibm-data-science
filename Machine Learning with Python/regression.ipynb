{
 "cells": [
  {
   "cell_type": "markdown",
   "metadata": {},
   "source": [
    "# **Introduction to Regression:**\n",
    "\n",
    "Regression is a statistical technique used for predicting continuous values. In this context, we explore its application in estimating CO2 emissions from cars based on various features.\n",
    "\n",
    "![Alt text](image-6.png)"
   ]
  },
  {
   "cell_type": "markdown",
   "metadata": {},
   "source": [
    "### **Variables in Regression:**\n",
    "\n",
    "- **Dependent Variable (Y):** Represents the target we want to predict, such as CO2 emissions.\n",
    "  \n",
    "- **Independent Variables (X):** Factors influencing the dependent variable, like engine size, cylinders, and fuel consumption.\n",
    "\n",
    "**Note:** The key point in the regression is that our dependent value should be continuous and cannot be a discrete value. However, the independent variable, or\n",
    "variables, can be measured on either a categorical or continuous measurement scale. "
   ]
  },
  {
   "cell_type": "markdown",
   "metadata": {},
   "source": [
    "\n",
    "### **Types of Regression:**\n",
    "\n",
    "- **Simple Regression:** Involves one independent variable to estimate a dependent variable, e.g., predicting CO2 emission using engine size.\n",
    "\n",
    "- **Multiple Regression:** Utilizes more than one independent variable, e.g., predicting CO2 emission based on both engine size and the number of cylinders.\n",
    "\n",
    "![Alt text](image-7.png)\n",
    "\n",
    "### **Regression Process:**\n",
    "\n",
    "1. **Data Collection:** Gather historical data with labeled CO2 emissions for various cars.\n",
    "\n",
    "2. **Model Building:** Employ regression to create an estimation model based on the collected data.\n",
    "\n",
    "3. **Prediction:** Apply the trained model to predict CO2 emissions for new, unseen cars.\n",
    "\n",
    "### **Applications of Regression:**\n",
    "\n",
    "- **Sales Forecasting:** Predict sales using variables like age, education, and experience of a salesperson.\n",
    "\n",
    "- **Psychology Studies:** Determine individual satisfaction based on demographic and psychological factors.\n",
    "\n",
    "- **Real Estate:** Predict house prices by considering factors like size and number of bedrooms.\n",
    "\n",
    "- **Employment Income:** Predict income by analyzing variables such as hours worked, education, and experience.\n",
    "\n",
    "### **Types of Regression Models:**\n",
    "\n",
    "- **Linear vs. Non-linear:**\n",
    "  - **Linear Regression:** Assumes a straight-line relationship between variables.\n",
    "  - **Non-linear Regression:** Deals with more complex or curved relationships.\n",
    "\n",
    "![Alt text](image-8.png)"
   ]
  },
  {
   "cell_type": "markdown",
   "metadata": {},
   "source": [
    "## Simple Linear Regression"
   ]
  },
  {
   "cell_type": "markdown",
   "metadata": {},
   "source": [
    "#### **Understanding the Data**\n",
    "\n",
    "Consider a dataset related to CO2 emissions from cars, including engine size, cylinders, fuel consumption, and CO2 emissions. Can we predict CO2 emissions using variables like engine size? Yes, with linear regression.\n",
    "\n",
    "![Alt text](image-10.png)\n",
    "\n",
    "#### **Linear Regression Basics**\n",
    "\n",
    "Linear regression approximates a linear model describing the relationship between variables. In simple linear regression, a dependent variable (e.g., CO2 emissions) is predicted by an independent variable (e.g., engine size).\n",
    "\n"
   ]
  },
  {
   "cell_type": "markdown",
   "metadata": {},
   "source": [
    "#### **Types of Linear Regression Models**\n",
    "\n",
    "Two types: \n",
    "1. **Simple Linear Regression:** Uses one independent variable to estimate a dependent variable.\n",
    "2. **Multiple Linear Regression:** Involves more than one independent variable.\n",
    "\n",
    "![Alt text](image-9.png)\n",
    "\n",
    "#### **Working of Linear Regression**\n",
    "\n",
    "Visualize a scatter plot of engine size (independent) against CO2 emissions (dependent). Linear regression fits a line through the data, modeling the relationship.\n",
    "\n",
    "![Alt text](image-11.png)\n",
    "\n",
    "Let us assume for a moment that the line is a good fit of the data.We can use it to predict the emission of an unknown car.For example, for a sample car with engine size 2.4, you can find the emission is 214. "
   ]
  },
  {
   "cell_type": "markdown",
   "metadata": {},
   "source": [
    "\n",
    "#### **Linear Regression Equation**\n",
    "\n",
    "The equation is in the form: \n",
    "$\\hat{y}$ = $\\theta_0$ + $\\theta_1$*$x_1$\n",
    "\n",
    "Where y is the dependent variable, x1 is the independent variable, $\\theta_0$ is the intercept, and $\\theta_1$ is the slope.\n",
    "\n",
    "$\\theta_0$ and $\\theta_1$ are the parameters that we need to adjust.\n",
    "\n",
    "![Alt text](image-12.png)\n",
    "\n",
    "#### **Parameter Estimation**\n",
    "\n",
    "Calculate $\\theta_1$ (slope) and $\\theta_0$ (intercept) using data averages. The objective is to minimize the Mean Squared Error (MSE).\n",
    "\n",
    "![Alt text](image-13.png)\n",
    "\n",
    "Here, $\\bar{x}$ and $\\bar{y}$ are averages of x and y.\n",
    "\n",
    "![Alt text](image-14.png)\n",
    "\n",
    "So, the polynomial of the line would be: \n",
    "### **$\\hat{y}$ = 125.74 + 39 $x_1$**"
   ]
  },
  {
   "cell_type": "markdown",
   "metadata": {},
   "source": [
    "\n",
    "#### **Predictions with Linear Regression**\n",
    "\n",
    "Use the line equation to predict CO2 emissions for new cars based on engine size. Parameters $\\theta_0$ and $\\theta_1$ determine the line.\n",
    "\n",
    "#### **Utility of Linear Regression**\n",
    "\n",
    "Linear regression is fundamental, fast, doesn't require parameter tuning, and is highly interpretable. It's a go-to for simplicity and effectiveness.\n",
    "\n",
    "![Alt text](image-15.png)"
   ]
  }
 ],
 "metadata": {
  "language_info": {
   "name": "python"
  }
 },
 "nbformat": 4,
 "nbformat_minor": 2
}
