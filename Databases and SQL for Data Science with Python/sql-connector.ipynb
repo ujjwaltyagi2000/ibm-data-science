{
 "cells": [
  {
   "cell_type": "markdown",
   "metadata": {},
   "source": [
    "# Installation\n",
    "`pip install mysql-connector-python` "
   ]
  },
  {
   "cell_type": "markdown",
   "metadata": {},
   "source": [
    "Test MySQL Connector\n",
    "\n",
    "To test if the installation was successful, or if you already have \"MySQL Connector\" installed, create a Python page with the following content:\n",
    "\n",
    "demo_mysql_test.py:\n",
    "import mysql.connector "
   ]
  },
  {
   "cell_type": "code",
   "execution_count": 2,
   "metadata": {},
   "outputs": [],
   "source": [
    "import mysql.connector\n",
    "import pandas as pd"
   ]
  },
  {
   "cell_type": "markdown",
   "metadata": {},
   "source": [
    "If the above code was executed with no errors, \"MySQL Connector\" is installed and ready to be used."
   ]
  },
  {
   "cell_type": "markdown",
   "metadata": {},
   "source": [
    "## Create Connection\n",
    "\n",
    "Start by creating a connection to the database.\n",
    "\n",
    "Use the username and password from your MySQL database:"
   ]
  },
  {
   "cell_type": "code",
   "execution_count": 3,
   "metadata": {},
   "outputs": [
    {
     "name": "stdout",
     "output_type": "stream",
     "text": [
      "<mysql.connector.connection_cext.CMySQLConnection object at 0x0000021DE024A390>\n"
     ]
    }
   ],
   "source": [
    "mydb = mysql.connector.connect(\n",
    "  host=\"localhost\",\n",
    "  user=\"root\",\n",
    "  password=\"ujjwal06\"\n",
    ")\n",
    "\n",
    "print(mydb) "
   ]
  },
  {
   "cell_type": "markdown",
   "metadata": {},
   "source": [
    "**host:** Specifies the host where the MySQL server is running. In this case, it's set to \"localhost,\" meaning the MySQL server is on the same machine.\n",
    "\n",
    "**user:** Specifies the MySQL username used to log in. (username: is \"root\" in general)\n",
    "\n",
    "**password:** Specifies the password for the provided username. Here it was \"ujjwal06\""
   ]
  },
  {
   "cell_type": "markdown",
   "metadata": {},
   "source": [
    "**NOTE:** If the password is wrong, it gives an error."
   ]
  },
  {
   "cell_type": "markdown",
   "metadata": {},
   "source": [
    "## Execute a query"
   ]
  },
  {
   "cell_type": "code",
   "execution_count": 4,
   "metadata": {},
   "outputs": [
    {
     "name": "stdout",
     "output_type": "stream",
     "text": [
      "('information_schema',)\n",
      "('mysql',)\n",
      "('performance_schema',)\n",
      "('sakila',)\n",
      "('sys',)\n",
      "('testdb',)\n",
      "('world',)\n"
     ]
    }
   ],
   "source": [
    "mycursor = mydb.cursor()\n",
    "mycursor.execute(\"SHOW DATABASES\")\n",
    "# databases = mycursor.fetchall()\n",
    "# for database in databases:\n",
    "#     print(database)\n",
    "for database in mycursor:\n",
    "    print(database)\n",
    "\n"
   ]
  },
  {
   "cell_type": "code",
   "execution_count": 6,
   "metadata": {},
   "outputs": [
    {
     "name": "stdout",
     "output_type": "stream",
     "text": [
      "('student_data',)\n"
     ]
    }
   ],
   "source": [
    "mycursor.execute(\"USE testdb\")\n",
    "mycursor.execute(\"SHOW TABLES\")\n",
    "for table in mycursor:\n",
    "    print(table)\n"
   ]
  },
  {
   "cell_type": "code",
   "execution_count": 7,
   "metadata": {},
   "outputs": [
    {
     "name": "stdout",
     "output_type": "stream",
     "text": [
      "(46123, 'Ujjwal Tyagi', 'EEE')\n",
      "(70312, 'Tanishq Sharma', 'ECE')\n",
      "(81463, 'Krishna Deekshit', 'IT')\n",
      "(66375, 'Arnab Sharma', 'CSE')\n",
      "(30801, 'Rahul Ojha', 'ICE')\n",
      "(59716, 'Sapna Bhandari', 'EEE')\n",
      "(12848, 'Jaysha Singyan', 'ICE')\n",
      "(20174, 'Shrey Dhawan', 'CSE')\n",
      "(91202, 'Anshuman Pandey', 'CSE')\n",
      "(26021, 'Siddhant Jha', 'EEE')\n"
     ]
    }
   ],
   "source": [
    "# Execute a SQL query to select all records from the \"student_data\" table\n",
    "mycursor.execute(\"SELECT * FROM student_data\")\n",
    "\n",
    "# Fetch all the rows\n",
    "rows = mycursor.fetchall()\n",
    "\n",
    "# Print the data\n",
    "for row in rows:\n",
    "    print(row)"
   ]
  },
  {
   "cell_type": "markdown",
   "metadata": {},
   "source": [
    "## Reading a table into dataframe"
   ]
  },
  {
   "cell_type": "code",
   "execution_count": 8,
   "metadata": {},
   "outputs": [
    {
     "name": "stdout",
     "output_type": "stream",
     "text": [
      "   roll_number              name department\n",
      "0        46123      Ujjwal Tyagi        EEE\n",
      "1        70312    Tanishq Sharma        ECE\n",
      "2        81463  Krishna Deekshit         IT\n",
      "3        66375      Arnab Sharma        CSE\n",
      "4        30801        Rahul Ojha        ICE\n",
      "5        59716    Sapna Bhandari        EEE\n",
      "6        12848    Jaysha Singyan        ICE\n",
      "7        20174      Shrey Dhawan        CSE\n",
      "8        91202   Anshuman Pandey        CSE\n",
      "9        26021      Siddhant Jha        EEE\n"
     ]
    },
    {
     "name": "stderr",
     "output_type": "stream",
     "text": [
      "C:\\Users\\ujjwa\\AppData\\Local\\Temp\\ipykernel_24980\\3738099141.py:5: UserWarning: pandas only supports SQLAlchemy connectable (engine/connection) or database string URI or sqlite3 DBAPI2 connection. Other DBAPI2 objects are not tested. Please consider using SQLAlchemy.\n",
      "  df = pd.read_sql(query, mydb)\n"
     ]
    }
   ],
   "source": [
    "# SQL query to select all records from the \"student_data\" table\n",
    "query = \"SELECT * FROM student_data\"\n",
    "\n",
    "# Use Pandas to read the data directly into a DataFrame\n",
    "df = pd.read_sql(query, mydb)\n",
    "\n",
    "# Print the DataFrame\n",
    "print(df)"
   ]
  },
  {
   "cell_type": "markdown",
   "metadata": {},
   "source": [
    "The warning you're seeing indicates that the read_sql function from Pandas is designed to work with SQLAlchemy connections or database string URIs. However, it does support using a MySQL Connector connection as well.\n",
    "\n",
    "The warning can be safely ignored in this context as the DataFrame seems to be correctly populated with the data from the \"student_data\" table. "
   ]
  }
 ],
 "metadata": {
  "kernelspec": {
   "display_name": "data-science",
   "language": "python",
   "name": "python3"
  },
  "language_info": {
   "codemirror_mode": {
    "name": "ipython",
    "version": 3
   },
   "file_extension": ".py",
   "mimetype": "text/x-python",
   "name": "python",
   "nbconvert_exporter": "python",
   "pygments_lexer": "ipython3",
   "version": "3.12.0"
  }
 },
 "nbformat": 4,
 "nbformat_minor": 2
}
